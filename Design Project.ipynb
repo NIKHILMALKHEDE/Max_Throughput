{
 "cells": [
  {
   "cell_type": "code",
   "execution_count": 1,
   "metadata": {},
   "outputs": [],
   "source": [
    "#Creating a graph to figuratively show the distributed network\n",
    "class Graph:\n",
    "    def __init__(self):\n",
    "        self.graph = {}\n",
    "        self.power_array = []\n",
    "        self.thres_SINR = []\n",
    "        self.awgn = []\n",
    "        self.distance_BS = []\n",
    "    \n",
    "    def add_connections(self, data_array):\n",
    "        if data_array[0] in self.graph:\n",
    "            self.graph[data_array[0]].append(data_array[1:])\n",
    "        else:\n",
    "            self.graph[data_array[0]] = [data_array[1:]]\n",
    "    \n",
    "    def print_connections(self):\n",
    "        print(self.graph)\n",
    "        \n",
    "        #gii and gij \n",
    "        #gii average internal channel gain\n",
    "        #gij average data communication channel gain"
   ]
  },
  {
   "cell_type": "markdown",
   "metadata": {},
   "source": [
    "### Array Contents\n",
    "* Parent Node \n",
    "* Child Node \n",
    "* Channel gain for the parent node\n",
    "* Average power gain in data transmission"
   ]
  },
  {
   "cell_type": "code",
   "execution_count": 2,
   "metadata": {},
   "outputs": [],
   "source": [
    "graph = Graph()\n",
    "graph.power_array = [0.1, 0.25, 0.15, 0.2, 1] #the initial power ratings of the nodes in the graph\n",
    "parray = graph.power_array\n",
    "orgparray = [0.1, 0.25, 0.15, 0.2, 1]\n",
    "graph.thres_SINR = [5, 6, 4, 5, 6] #assigning threshold SINR values to each power source\n",
    "graph.awgn = [0.03, 0.04, 0.05, 0.06, 0.05] #assigning the σ(sigma) also known as additive white gaussian noise value for each node\n",
    "graph.distanceBS = [1.5, 2, 3, 4, 5]\n",
    "\n",
    "#giving each node of the network the other nodes to which each nodes are connected \n",
    "#along with the average internal channel gain(gii) and the external channel gain between the two nodes in communication(gij)\n",
    "graph.add_connections([0, 2, 0, 0, 1])\n",
    "graph.add_connections([0, 3, 0, 0, 2])\n",
    "graph.add_connections([1, 0, 0, 0, 3])\n",
    "graph.add_connections([2, 1, 0, 0, 4])\n",
    "graph.add_connections([2, 3, 0, 0, 5])\n",
    "graph.add_connections([3, 4, 0, 0, 6])\n",
    "graph.add_connections([4, 0, 0, 0, 7])\n"
   ]
  },
  {
   "cell_type": "code",
   "execution_count": 3,
   "metadata": {},
   "outputs": [
    {
     "data": {
      "text/plain": [
       "{0: [[2, 0, 0, 1], [3, 0, 0, 2]],\n",
       " 1: [[0, 0, 0, 3]],\n",
       " 2: [[1, 0, 0, 4], [3, 0, 0, 5]],\n",
       " 3: [[4, 0, 0, 6]],\n",
       " 4: [[0, 0, 0, 7]]}"
      ]
     },
     "execution_count": 3,
     "metadata": {},
     "output_type": "execute_result"
    }
   ],
   "source": [
    "graph.graph"
   ]
  },
  {
   "cell_type": "code",
   "execution_count": 4,
   "metadata": {},
   "outputs": [],
   "source": [
    "def cal_expected_value(zero_gaussian, hii):\n",
    "    n = len(zero_gaussian)\n",
    "    sums = 0\n",
    "    for i in range(n):\n",
    "        exponent = 0.1*zero_gaussian[i]\n",
    "        sums += hii*(10**(exponent))\n",
    "    return sums/n"
   ]
  },
  {
   "cell_type": "code",
   "execution_count": 5,
   "metadata": {},
   "outputs": [
    {
     "data": {
      "text/plain": [
       "[0.44272711999039294,\n",
       " 0.24903400499459594,\n",
       " 0.11068177999759823,\n",
       " 0.062258501248648984,\n",
       " 0.03984544079913543]"
      ]
     },
     "execution_count": 5,
     "metadata": {},
     "output_type": "execute_result"
    }
   ],
   "source": [
    "import numpy as np\n",
    "import math\n",
    "zero_gaussian = np.random.normal(0,1,1000)\n",
    "gii_array = [0]*len(parray)\n",
    "def gii_function():\n",
    "    global parray\n",
    "    hii_ = 0.97\n",
    "    pl_exponent = -2 #free space\n",
    "    scale_parameter = 2\n",
    "    for node in graph.graph:\n",
    "        hii = hii_*(graph.distanceBS[node]**(-2))\n",
    "        gii = cal_expected_value(zero_gaussian, hii)\n",
    "        gii_array[node] = gii\n",
    "\n",
    "gii_function()\n",
    "gii_array"
   ]
  },
  {
   "cell_type": "code",
   "execution_count": 6,
   "metadata": {},
   "outputs": [
    {
     "data": {
      "text/plain": [
       "{0: [[2, 0, 0.9961360199783837, 1], [3, 0, 0.24903400499459594, 2]],\n",
       " 1: [[0, 0, 0.11068177999759823, 3]],\n",
       " 2: [[1, 0, 0.062258501248648984, 4], [3, 0, 0.03984544079913543, 5]],\n",
       " 3: [[4, 0, 0.02767044499939956, 6]],\n",
       " 4: [[0, 0, 0.02032930653017112, 7]]}"
      ]
     },
     "execution_count": 6,
     "metadata": {},
     "output_type": "execute_result"
    }
   ],
   "source": [
    "def gij_function():\n",
    "    global parray\n",
    "    hii_ = 0.97\n",
    "    pl_exponent = 2 #free space\n",
    "    scale_parameter = 2\n",
    "    for node in graph.graph:\n",
    "        for i in range(len(graph.graph[node])):\n",
    "            #import pdb; pdb.set_trace()\n",
    "            hii = hii_*(graph.graph[node][i][3]**(-pl_exponent))\n",
    "            gij = cal_expected_value(zero_gaussian, hii)\n",
    "            graph.graph[node][i][2] = gij\n",
    "\n",
    "gij_function()\n",
    "graph.graph"
   ]
  },
  {
   "cell_type": "code",
   "execution_count": 7,
   "metadata": {},
   "outputs": [],
   "source": [
    "def summation_Gij(node, array):\n",
    "    sums = 0\n",
    "    for i in range(len(graph.graph[node])):\n",
    "            sums += ((graph.graph[node][i][2]/gii_array[node])*array[graph.graph[node][i][0]])\n",
    "    return sums"
   ]
  },
  {
   "cell_type": "code",
   "execution_count": 8,
   "metadata": {},
   "outputs": [],
   "source": [
    "omega =[0]*len(parray)\n",
    "def omega_function(array):\n",
    "    for node in graph.graph:    \n",
    "        #finding the value of summation of Gij\n",
    "        sums = summation_Gij(node, array)\n",
    "        #import pdb; pdb.set_trace()\n",
    "        deno = (graph.thres_SINR[node]*(sums + graph.awgn[node]/gii_array[node]))\n",
    "        value = (1+(array[node]/deno))\n",
    "        omega[node] = value"
   ]
  },
  {
   "cell_type": "code",
   "execution_count": 9,
   "metadata": {},
   "outputs": [],
   "source": [
    "#Step 3 of the algorithm\n",
    "#calulating the value for the variable that helps in providing the parametric form of the optimization problem (u)\n",
    "u_array = [0]*len(parray)\n",
    "def u_function(array):\n",
    "    for node in graph.graph:\n",
    "        #finding the value of summation of Gij\n",
    "        sums = summation_Gij(node, array)\n",
    "        deno = (graph.thres_SINR[node]*(sums + graph.awgn[node]/gii_array[node]))\n",
    "        u_demo = (array[node] + deno)**4\n",
    "        u_value = (array[node]*omega[node])**2/u_demo\n",
    "        u_array[node] = u_value"
   ]
  },
  {
   "cell_type": "code",
   "execution_count": 10,
   "metadata": {},
   "outputs": [],
   "source": [
    "#Step 4 of the algorithm\n",
    "#finding the optimal power allocation in a distributed system for max throughput\n",
    "power_array = []\n",
    "import math\n",
    "def new_power_function():\n",
    "    global parray\n",
    "    for node in graph.graph:\n",
    "        sums = 0\n",
    "        #finding the value of summation of Gij\n",
    "        for i in range(len(graph.graph[node])):\n",
    "            sums += (graph.graph[node][i][2]/gii_array[node])\n",
    "        deno = u_array[node]*(1+(graph.thres_SINR[node]*sums))**2\n",
    "        new_power = omega[node]**2/deno\n",
    "        #Step 5 of the algorithm\n",
    "        #If the difference between the new power and the old power obtained is greated than convergence threshold\n",
    "        #then the old power = new power\n",
    "        #here, convergence threshold = 20\n",
    "        if math.ceil(abs(new_power - parray[node]))>0.75:\n",
    "            parray[node] = new_power"
   ]
  },
  {
   "cell_type": "code",
   "execution_count": 11,
   "metadata": {},
   "outputs": [],
   "source": [
    "#finding the maximum power allocation for ten iterations of data communications\n",
    "for i in range(3):\n",
    "    omega_function(parray)\n",
    "    u_function(parray)\n",
    "    new_power_function()"
   ]
  },
  {
   "cell_type": "code",
   "execution_count": 12,
   "metadata": {},
   "outputs": [
    {
     "data": {
      "text/plain": [
       "[1.7113496415074817e+22,\n",
       " 5.085519122338345e+39,\n",
       " 2.9013087156177445e+19,\n",
       " 4496364971227.97,\n",
       " 5.448128100850093e+40]"
      ]
     },
     "execution_count": 12,
     "metadata": {},
     "output_type": "execute_result"
    }
   ],
   "source": [
    "#Final power ratings of each of the nodes in the network \n",
    "#for providing maximum throughput rates in a distributed power allocation system\n",
    "graph.power_array"
   ]
  },
  {
   "cell_type": "code",
   "execution_count": 20,
   "metadata": {},
   "outputs": [
    {
     "name": "stdout",
     "output_type": "stream",
     "text": [
      "[0.1, 0.25, 0.15, 0.2, 1]\n",
      "[1.7113496415074817e+22, 5.085519122338345e+39, 2.9013087156177445e+19, 4496364971227.97, 5.448128100850093e+40]\n"
     ]
    },
    {
     "data": {
      "image/png": "[encoded data removed]",
      "text/plain": [
       "<Figure size 432x288 with 1 Axes>"
      ]
     },
     "metadata": {
      "needs_background": "light"
     },
     "output_type": "display_data"
    }
   ],
   "source": [
    "import matplotlib.pyplot as plt\n",
    "import numpy as np\n",
    "\n",
    "\n",
    "average_power_values = orgparray\n",
    "print(orgparray)\n",
    "nodes = [0, 1, 2, 3, 4]\n",
    "\n",
    "power_ratings = []\n",
    "nodes = [0, 1, 2, 3, 4]\n",
    "for i in parray:\n",
    "    power_ratings.append(round(i,2))\n",
    "print(power_ratings)\n",
    "\n",
    "x_axis = np.arange(len(nodes))\n",
    "plt.bar(x_axis - 0.2,average_power_values, 0.4, label='Initial Power')\n",
    "plt.bar(x_axis + 0.2,power_ratings, 0.4, label='New Power')\n",
    "\n",
    "plt.xticks(x_axis, nodes)\n",
    "plt.ylabel(\"Average power throughput\")\n",
    "plt.xlabel(\"Node Label\")\n",
    "plt.title(\"power throughput of the nodes\")\n",
    "plt.legend()\n",
    "plt.show()\n"
   ]
  },
  {
   "cell_type": "code",
   "execution_count": 14,
   "metadata": {},
   "outputs": [],
   "source": [
    "import math\n",
    "from math import log\n",
    "newparray = [0.1, 0.25, 0.15, 0.2, 1]\n",
    "piap = [0.2, 0.4, 0.6, 0.8, 0.3]\n",
    "picp = [0.3, 0.6, 0.9, 0.08, 0.1]\n",
    "e = 0.02\n",
    "Oth = 0.5"
   ]
  },
  {
   "cell_type": "code",
   "execution_count": 15,
   "metadata": {},
   "outputs": [],
   "source": [
    "v_array = [0]*len(newparray)\n",
    "def v_function():\n",
    "    global newparray\n",
    "    for node in graph.graph:\n",
    "        numerator = log(omega[node])**2\n",
    "        denominator = (e*newparray[node] + piap[node] + picp[node])**4\n",
    "        v_array[node] = numerator/denominator"
   ]
  },
  {
   "cell_type": "code",
   "execution_count": 16,
   "metadata": {},
   "outputs": [],
   "source": [
    "alpha_array = [0]*len(newparray)\n",
    "def alpha_function():\n",
    "    global newparray\n",
    "    for node in graph.graph:\n",
    "        alpha_array[node] = 1/omega[node]"
   ]
  },
  {
   "cell_type": "code",
   "execution_count": 17,
   "metadata": {},
   "outputs": [],
   "source": [
    "def newnew_power_function():\n",
    "    global newparray\n",
    "    for node in graph.graph:\n",
    "        #finding the value of summation of Gij\n",
    "        sums = summation_Gij(node, newparray)\n",
    "        #minimum transmit power required to get target SINR\n",
    "        #import pdb; pdb.set_trace();\n",
    "        val1 = -1*(sums + graph.awgn[node]/gii_array[node])*(graph.thres_SINR[node]/(log(1-Oth)))\n",
    "        #user transmit power\n",
    "        num1 = 4*alpha_array[node]*u_array[node]*v_array[node]*omega[node]\n",
    "        last = (1+graph.thres_SINR[node]*sums)\n",
    "        deno1 = (v_array[node] + (2*u_array[node]*(math.sqrt(v_array[node]))*last))**2\n",
    "        val2 = num1/deno1\n",
    "        new_power = max(val1, val2)\n",
    "        if math.ceil(abs(new_power - newparray[node]))>0.25:\n",
    "            newparray[node] = new_power"
   ]
  },
  {
   "cell_type": "code",
   "execution_count": 18,
   "metadata": {},
   "outputs": [],
   "source": [
    "for i in range(3):\n",
    "    omega_function(newparray)\n",
    "    u_function(newparray)\n",
    "    v_function()\n",
    "    alpha_function()\n",
    "    newnew_power_function()"
   ]
  },
  {
   "cell_type": "code",
   "execution_count": 19,
   "metadata": {},
   "outputs": [
    {
     "data": {
      "text/plain": [
       "[187522.23768817206,\n",
       " 721434.4633439005,\n",
       " 2342021.5822155867,\n",
       " 13082.485460476864,\n",
       " 828186.583722213]"
      ]
     },
     "execution_count": 19,
     "metadata": {},
     "output_type": "execute_result"
    }
   ],
   "source": [
    "newparray"
   ]
  },
  {
   "cell_type": "code",
   "execution_count": null,
   "metadata": {},
   "outputs": [],
   "source": []
  }
 ],
 "metadata": {
  "kernelspec": {
   "display_name": "Python 3",
   "language": "python",
   "name": "python3"
  },
  "language_info": {
   "codemirror_mode": {
    "name": "ipython",
    "version": 3
   },
   "file_extension": ".py",
   "mimetype": "text/x-python",
   "name": "python",
   "nbconvert_exporter": "python",
   "pygments_lexer": "ipython3",
   "version": "3.7.4"
  }
 },
 "nbformat": 4,
 "nbformat_minor": 2
}
