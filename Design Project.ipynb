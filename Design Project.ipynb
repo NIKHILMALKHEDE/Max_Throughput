{
 "cells": [
  {
   "cell_type": "code",
   "execution_count": 1,
   "metadata": {},
   "outputs": [],
   "source": [
    "#Creating a graph to figuratively show the distributed network\n",
    "class Graph:\n",
    "    def __init__(self):\n",
    "        self.graph = {}\n",
    "        self.power_array = []\n",
    "        self.thres_SINR = []\n",
    "        self.awgn = []\n",
    "    \n",
    "    def add_connections(self, data_array):\n",
    "        if data_array[0] in self.graph:\n",
    "            self.graph[data_array[0]].append(data_array[1:])\n",
    "        else:\n",
    "            self.graph[data_array[0]] = [data_array[1:]]\n",
    "    \n",
    "    def print_connections(self):\n",
    "        print(self.graph)"
   ]
  },
  {
   "cell_type": "markdown",
   "metadata": {},
   "source": [
    "### Array Contents\n",
    "* Parent Node \n",
    "* Child Node \n",
    "* Channel gain for the parent node\n",
    "* Average power gain in data transmission"
   ]
  },
  {
   "cell_type": "code",
   "execution_count": 2,
   "metadata": {},
   "outputs": [],
   "source": [
    "graph = Graph()\n",
    "graph.power_array = [10, 20, 25, 35, 40] #the initial power ratings of the nodes in the graph\n",
    "parray = graph.power_array\n",
    "graph.thres_SINR = [1, 3, 4, 5, 6] #assigning threshold SINR values to each power source\n",
    "graph.awgn = [3, 4, 5, 6, 7] #assigning the σ(sigma) also known as additive white gaussian noise value for each node\n",
    "\n",
    "#giving each node of the network the other nodes to which each nodes are connected \n",
    "#along with the average internal channel gain(gii) and the external channel gain between the two nodes in communication(gij)\n",
    "graph.add_connections([0, 2, 5, 6,])\n",
    "graph.add_connections([0, 3, 5, 6.5])\n",
    "graph.add_connections([1, 0, 6, 5.5])\n",
    "graph.add_connections([2, 1, 7, 6.5])\n",
    "graph.add_connections([2, 1, 7, 6.5])\n",
    "graph.add_connections([2, 3, 7, 7.5])\n",
    "graph.add_connections([3, 4, 8, 8.5])\n",
    "graph.add_connections([4, 0, 9, 7])\n"
   ]
  },
  {
   "cell_type": "code",
   "execution_count": 3,
   "metadata": {},
   "outputs": [
    {
     "name": "stdout",
     "output_type": "stream",
     "text": [
      "{0: [[2, 5, 6], [3, 5, 6.5]], 1: [[0, 6, 5.5]], 2: [[1, 7, 6.5], [1, 7, 6.5], [3, 7, 7.5]], 3: [[4, 8, 8.5]], 4: [[0, 9, 7]]}\n"
     ]
    }
   ],
   "source": [
    "graph.print_connections()"
   ]
  },
  {
   "cell_type": "code",
   "execution_count": 4,
   "metadata": {},
   "outputs": [
    {
     "data": {
      "text/plain": [
       "{0: [[2, 5, 6], [3, 5, 6.5]],\n",
       " 1: [[0, 6, 5.5]],\n",
       " 2: [[1, 7, 6.5], [1, 7, 6.5], [3, 7, 7.5]],\n",
       " 3: [[4, 8, 8.5]],\n",
       " 4: [[0, 9, 7]]}"
      ]
     },
     "execution_count": 4,
     "metadata": {},
     "output_type": "execute_result"
    }
   ],
   "source": [
    "graph.graph"
   ]
  },
  {
   "cell_type": "code",
   "execution_count": 5,
   "metadata": {},
   "outputs": [],
   "source": [
    "#attempt for refactoring the code\n",
    "def summation_Gij(node):\n",
    "    global parray\n",
    "    sums = 0\n",
    "    for i in range(len(graph.graph[node])):\n",
    "            sums += ((graph.graph[node][i][2]/graph.graph[node][i][1])*parray[graph.graph[node][i][0]])\n",
    "    return sums"
   ]
  },
  {
   "cell_type": "code",
   "execution_count": 6,
   "metadata": {},
   "outputs": [],
   "source": [
    "#Step 2 of the algorithm\n",
    "#calculating the omega value\n",
    "omega =[]\n",
    "def omega_function():\n",
    "    global parray\n",
    "    for node in graph.graph:    \n",
    "        sums = 0\n",
    "        #finding the value of summation of Gij\n",
    "        for i in range(len(graph.graph[node])):\n",
    "            sums += ((graph.graph[node][i][2]/graph.graph[node][i][1])*parray[graph.graph[node][i][0]])\n",
    "        #import pdb; pdb.set_trace()\n",
    "        deno = (graph.thres_SINR[node]*(sums + graph.awgn[node]/graph.graph[node][i][1]))\n",
    "        value = (1+(parray[node])/deno)\n",
    "        omega.append(value)\n",
    "                "
   ]
  },
  {
   "cell_type": "code",
   "execution_count": 7,
   "metadata": {},
   "outputs": [],
   "source": [
    "#Step 3 of the algorithm\n",
    "#calulating the value for the variable that helps in providing the parametric form of the optimization problem (u)\n",
    "u_array = []\n",
    "def u_function():\n",
    "    global parray\n",
    "    for node in graph.graph:\n",
    "        sums = 0\n",
    "        #finding the value of summation of Gij\n",
    "        for i in range(len(graph.graph[node])):\n",
    "            sums += ((graph.graph[node][i][2]/graph.graph[node][i][1])*parray[graph.graph[node][i][0]])\n",
    "        deno = (graph.thres_SINR[node]*(sums + graph.awgn[node]/graph.graph[node][i][1]))\n",
    "        u_demo = (parray[node] + deno)**4\n",
    "        u_value = (parray[node]*omega[node])**2/u_demo\n",
    "        u_array.append(u_value)"
   ]
  },
  {
   "cell_type": "code",
   "execution_count": 8,
   "metadata": {},
   "outputs": [],
   "source": [
    "#Step 4 of the algorithm\n",
    "#finding the optimal power allocation in a distributed system for max throughput\n",
    "import math\n",
    "def new_power_function():\n",
    "    global parray\n",
    "    for node in graph.graph:\n",
    "        sums = 0\n",
    "        #finding the value of summation of Gij\n",
    "        for i in range(len(graph.graph[node])):\n",
    "            sums += ((graph.graph[node][i][2]/graph.graph[node][i][1])*parray[graph.graph[node][i][0]])\n",
    "        deno = u_array[node]*(1+(graph.thres_SINR[node]*sums))**2\n",
    "        new_power = omega[node]**2/deno\n",
    "        #Step 5 of the algorithm\n",
    "        #If the difference between the new power and the old power obtained is greated than convergence threshold\n",
    "        #then the old power = new power\n",
    "        #here, convergence threshold = 20\n",
    "        if math.ceil(abs(new_power - parray[node]))>40:\n",
    "            parray[node] = new_power\n",
    "        else:\n",
    "            print(f'{new_power} - {parray[node]} = {math.ceil(abs(new_power - parray[node]))}')"
   ]
  },
  {
   "cell_type": "code",
   "execution_count": 9,
   "metadata": {},
   "outputs": [
    {
     "name": "stdout",
     "output_type": "stream",
     "text": [
      "0.2233361050799194 - 20 = 20\n",
      "71.36617725354571 - 35 = 37\n",
      "0.2254365919369557 - 40 = 40\n",
      "41.39011447701963 - 20 = 22\n",
      "202.42859430846377 - 202.42859430846377 = 0\n",
      "71.36617725354571 - 35 = 37\n",
      "43.503430766363365 - 40 = 4\n",
      "6.561038626444226 - 6.561038626444226 = 0\n",
      "41.39011447701963 - 20 = 22\n",
      "202.42859430846377 - 202.42859430846377 = 0\n",
      "71.36617725354571 - 35 = 37\n",
      "43.503430766363365 - 40 = 4\n",
      "6.561038626444226 - 6.561038626444226 = 0\n",
      "41.39011447701963 - 20 = 22\n",
      "202.42859430846377 - 202.42859430846377 = 0\n",
      "71.36617725354571 - 35 = 37\n",
      "43.503430766363365 - 40 = 4\n",
      "6.561038626444226 - 6.561038626444226 = 0\n",
      "41.39011447701963 - 20 = 22\n",
      "202.42859430846377 - 202.42859430846377 = 0\n",
      "71.36617725354571 - 35 = 37\n",
      "43.503430766363365 - 40 = 4\n",
      "6.561038626444226 - 6.561038626444226 = 0\n",
      "41.39011447701963 - 20 = 22\n",
      "202.42859430846377 - 202.42859430846377 = 0\n",
      "71.36617725354571 - 35 = 37\n",
      "43.503430766363365 - 40 = 4\n",
      "6.561038626444226 - 6.561038626444226 = 0\n",
      "41.39011447701963 - 20 = 22\n",
      "202.42859430846377 - 202.42859430846377 = 0\n",
      "71.36617725354571 - 35 = 37\n",
      "43.503430766363365 - 40 = 4\n",
      "6.561038626444226 - 6.561038626444226 = 0\n",
      "41.39011447701963 - 20 = 22\n",
      "202.42859430846377 - 202.42859430846377 = 0\n",
      "71.36617725354571 - 35 = 37\n",
      "43.503430766363365 - 40 = 4\n",
      "6.561038626444226 - 6.561038626444226 = 0\n",
      "41.39011447701963 - 20 = 22\n",
      "202.42859430846377 - 202.42859430846377 = 0\n",
      "71.36617725354571 - 35 = 37\n",
      "43.503430766363365 - 40 = 4\n",
      "6.561038626444226 - 6.561038626444226 = 0\n",
      "41.39011447701963 - 20 = 22\n",
      "202.42859430846377 - 202.42859430846377 = 0\n",
      "71.36617725354571 - 35 = 37\n",
      "43.503430766363365 - 40 = 4\n",
      "[6.561038626444226, 20, 202.42859430846377, 35, 40]\n"
     ]
    }
   ],
   "source": [
    "#finding the maximum power allocation for ten iterations of data communications\n",
    "for i in range(10):\n",
    "    omega_function()\n",
    "    u_function()\n",
    "    new_power_function()\n",
    "print(graph.power_array)"
   ]
  },
  {
   "cell_type": "code",
   "execution_count": 10,
   "metadata": {},
   "outputs": [
    {
     "data": {
      "text/plain": [
       "[6.561038626444226, 20, 202.42859430846377, 35, 40]"
      ]
     },
     "execution_count": 10,
     "metadata": {},
     "output_type": "execute_result"
    }
   ],
   "source": [
    "#Final power ratings of each of the nodes in the network \n",
    "#for providing maximum throughput rates in a distributed power allocation system\n",
    "graph.power_array"
   ]
  },
  {
   "cell_type": "code",
   "execution_count": null,
   "metadata": {},
   "outputs": [],
   "source": []
  },
  {
   "cell_type": "code",
   "execution_count": null,
   "metadata": {},
   "outputs": [],
   "source": []
  }
 ],
 "metadata": {
  "kernelspec": {
   "display_name": "Python 3",
   "language": "python",
   "name": "python3"
  },
  "language_info": {
   "codemirror_mode": {
    "name": "ipython",
    "version": 3
   },
   "file_extension": ".py",
   "mimetype": "text/x-python",
   "name": "python",
   "nbconvert_exporter": "python",
   "pygments_lexer": "ipython3",
   "version": "3.7.4"
  }
 },
 "nbformat": 4,
 "nbformat_minor": 2
}
